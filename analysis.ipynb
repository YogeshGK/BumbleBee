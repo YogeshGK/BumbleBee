{
 "cells": [
  {
   "cell_type": "code",
   "execution_count": null,
   "metadata": {},
   "outputs": [],
   "source": [
    "import pandas as pd\n",
    "import matplotlib.pyplot as plt\n",
    "loanDF = pd.read_csv(\"./data/loan.csv\")\n",
    "\n",
    "defaultDF = loanDF[loanDF[\"loan_status\"]=='Charged Off']\n",
    "defaultDF = defaultDF.dropna(axis='columns',how='all')\n",
    "defaultDF = defaultDF.dropna(how='all')\n",
    "corrDF = defaultDF.corr()"
   ]
  },
  {
   "cell_type": "code",
   "execution_count": null,
   "metadata": {},
   "outputs": [],
   "source": [
    "print(defaultDF.shape)\n",
    "defaultDF.head()\n"
   ]
  },
  {
   "cell_type": "code",
   "execution_count": null,
   "metadata": {},
   "outputs": [],
   "source": [
    "# defaultDF['grade'].value_counts().head(15).plot.bar()\n",
    "defaultDF['sub_grade'].value_counts().head(15).plot.bar()"
   ]
  },
  {
   "cell_type": "code",
   "execution_count": null,
   "metadata": {},
   "outputs": [],
   "source": [
    "# defaultDF['loan_amnt'].value_counts().head(30).plot.bar()\n",
    "# defaultDF['funded_amnt'].value_counts().head(30).plot.bar()\n",
    "# defaultDF['verification_status'].value_counts().head(30).plot.bar()\n",
    "# defaultDF['purpose'].value_counts().head(30).plot.bar()\n",
    "# defaultDF['title'].value_counts().head(30).plot.bar()\n",
    "# defaultDF['zip_code'].value_counts().plot.bar()\n",
    "# defaultDF['addr_state'].value_counts().head(30).plot.bar()\n",
    "# defaultDF['delinq_2yrs'].value_counts().head(30).plot.bar()\n",
    "# defaultDF['inq_last_6mths'].value_counts().head(30).plot.bar()\n",
    "# defaultDF['open_acc'].value_counts().head(30).plot.bar()\n",
    "# defaultDF['total_pymnt'].value_counts().head(30).plot.bar()\n",
    "# defaultDF['last_credit_pull_d'].value_counts().head(30).plot.bar()\n",
    "defaultDF['home_ownership'].value_counts().head(30).plot.bar()\n",
    "\n",
    "\n",
    "\n",
    "# open_acc"
   ]
  },
  {
   "cell_type": "code",
   "execution_count": null,
   "metadata": {},
   "outputs": [],
   "source": [
    "# categorize on revol_bal, revol_util\n",
    "# verify last_pymnt_d if needed "
   ]
  },
  {
   "cell_type": "code",
   "execution_count": null,
   "metadata": {},
   "outputs": [],
   "source": [
    "# defaultDF.collections_12_mths_ex_med.unique()\n",
    "# collections_12_mths_ex_med,   member_id,  emp_title, issue_d, loan_status, pymnt_plan, url, zip_code, initial_list_status, pub_rec, total_acc, out_prncp_inv, out_prncp, total_pymnt_inv, total_rec_prncp, total_rec_int, total_rec_late_fee, recoveries, collection_recovery_fee, last_pymnt_d , collections_12_mths_ex_med , policy_code , application_type , acc_now_delinq , delinq_amnt , pub_rec_bankruptcies , tax_liens , defaultDF\n",
    "\n",
    "# defaultDF['open_acc'].unique()\n",
    "# defaultDF['pub_rec'].unique()\n",
    "defaultDF['tax_liens'].unique()\n",
    "# defaultDF['total_acc'].unique()"
   ]
  },
  {
   "cell_type": "code",
   "execution_count": null,
   "metadata": {},
   "outputs": [],
   "source": [
    "defaultDF.isnull().sum()\n",
    "defaultDF.delinq_2yrs"
   ]
  },
  {
   "cell_type": "code",
   "execution_count": null,
   "metadata": {},
   "outputs": [],
   "source": [
    "## remove coilumns based on their bar plots , following columns doesn't seems to hav edirect impact\n",
    "filterDF = defaultDF.drop(columns=['collections_12_mths_ex_med', 'member_id','emp_title', 'issue_d', 'loan_status', 'pymnt_plan', 'url', 'zip_code', 'initial_list_status', 'pub_rec', 'total_acc', 'out_prncp_inv', 'out_prncp', 'total_pymnt_inv', 'total_rec_prncp', 'total_rec_int', 'total_rec_late_fee', 'recoveries', 'collection_recovery_fee', 'last_pymnt_d' , 'collections_12_mths_ex_med' , 'policy_code' , 'application_type' , 'acc_now_delinq' , 'delinq_amnt' , 'pub_rec_bankruptcies' , 'tax_liens', 'chargeoff_within_12_mths','mths_since_last_record','mths_since_last_delinq','term','home_ownership','id','delinq_2yrs'])"
   ]
  },
  {
   "cell_type": "code",
   "execution_count": null,
   "metadata": {},
   "outputs": [],
   "source": [
    "print(filterDF.shape)\n",
    "filterDF.columns"
   ]
  },
  {
   "cell_type": "code",
   "execution_count": null,
   "metadata": {},
   "outputs": [],
   "source": [
    "# filterDF.head()\n",
    "filterDF.loc[:,list(filterDF.columns[0:10])]"
   ]
  },
  {
   "cell_type": "code",
   "execution_count": null,
   "metadata": {},
   "outputs": [],
   "source": []
  },
  {
   "cell_type": "code",
   "execution_count": null,
   "metadata": {},
   "outputs": [],
   "source": []
  }
 ],
 "metadata": {
  "language_info": {
   "codemirror_mode": {
    "name": "ipython",
    "version": 3
   },
   "file_extension": ".py",
   "mimetype": "text/x-python",
   "name": "python",
   "nbconvert_exporter": "python",
   "pygments_lexer": "ipython3",
   "version": "3.6.9-final"
  },
  "orig_nbformat": 2,
  "kernelspec": {
   "name": "python36964bitpython36condad0c268066c9d4495943a6a436ddabdb2",
   "display_name": "Python 3.6.9 64-bit ('python36': conda)"
  }
 },
 "nbformat": 4,
 "nbformat_minor": 2
}